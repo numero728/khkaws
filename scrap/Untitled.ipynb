{
 "cells": [
  {
   "cell_type": "code",
   "execution_count": 7,
   "metadata": {},
   "outputs": [],
   "source": [
    "import requests\n",
    "import pandas as pd\n",
    "import numpy as np\n",
    "from bs4 import BeautifulSoup as BS\n",
    "import lxml"
   ]
  },
  {
   "cell_type": "code",
   "execution_count": 4,
   "metadata": {},
   "outputs": [],
   "source": [
    "ses=requests.Session()"
   ]
  },
  {
   "cell_type": "code",
   "execution_count": 5,
   "metadata": {},
   "outputs": [
    {
     "data": {
      "text/plain": [
       "b'<!DOCTYPE html>\\r\\n<html lang=\"ko\">\\r\\n<head>\\r\\n<title>Access Denied</title>\\r\\n<style>\\r\\n\\t*{font-family:\"Malgun Gothic\"; font-size:1em}\\r\\n\\thtml, body, div, img, p, span {margin:0;padding:0}\\r\\n\\thtml {height:100%}\\r\\n\\tbody {display:table; width:100%; height:100%; overflow:hidden}\\r\\n\\t.wrap {display:table-cell; width:100%; height:100%}\\r\\n\\t.visual{position:relative;width:690px;height:415px;margin:0 auto;}\\r\\n\\t.visual img{position:absolute;top:240px;left:0;width:690px;height:415px;border:0}\\r\\n\\t.notice{position:absolute;top:617px;width:690px}\\r\\n\\t.notice p{font-size:1em;font-weight:normal; text-align:center}\\r\\n\\t.notice p span{font-weight:600}\\r\\n</style>\\r\\n</head>\\r\\n<body>\\r\\n\\r\\n\\t<div class=\"wrap\">\\r\\n\\t\\t<div class=\"visual\">\\r\\n\\t\\t\\t<img src=\"/res/pc/img/img_ipblock.png\" alt=\"KRX \\xec\\x84\\x9c\\xeb\\xb9\\x84\\xec\\x8a\\xa4 \\xec\\x9d\\xb4\\xec\\x9a\\xa9\\xec\\x9d\\xb4 \\xec\\x9d\\xbc\\xec\\x8b\\x9c \\xec\\xa0\\x9c\\xed\\x95\\x9c\\xeb\\x90\\x98\\xec\\x97\\x88\\xec\\x8a\\xb5\\xeb\\x8b\\x88\\xeb\\x8b\\xa4. \\xec\\x8b\\x9c\\xec\\x8a\\xa4\\xed\\x85\\x9c\\xec\\x97\\x90\\xec\\x84\\x9c \\xeb\\xb9\\x84\\xec\\xa0\\x95\\xec\\x83\\x81\\xec\\xa0\\x81\\xec\\x9d\\xb8 \\xed\\x8a\\xb8\\xeb\\x9e\\x98\\xed\\x94\\xbd\\xec\\x9d\\x84 \\xea\\xb0\\x90\\xec\\xa7\\x80\\xed\\x95\\x98\\xec\\x97\\xac, \\xed\\x98\\x84\\xec\\x9e\\xac \\xec\\xa0\\x91\\xec\\x86\\x8d\\xec\\x9d\\xb4 \\xec\\xa0\\x9c\\xed\\x95\\x9c\\xeb\\x90\\x98\\xec\\x97\\x88\\xec\\x8a\\xb5\\xeb\\x8b\\x88\\xeb\\x8b\\xa4. \\xec\\xbb\\xb4\\xed\\x93\\xa8\\xed\\x84\\xb0 \\xeb\\xb0\\x94\\xec\\x9d\\xb4\\xeb\\x9f\\xac\\xec\\x8a\\xa4,\\r\\n\\t\\t\\t \\xeb\\xb8\\x8c\\xeb\\x9d\\xbc\\xec\\x9a\\xb0\\xec\\xa0\\x80\\xec\\x9d\\x98 \\xed\\x94\\x8c\\xeb\\x9f\\xac\\xea\\xb7\\xb8\\xec\\x9d\\xb8 \\xeb\\xac\\xb8\\xec\\xa0\\x9c\\xeb\\xa1\\x9c \\xec\\x9d\\xb4\\xec\\x83\\x81 \\xed\\x8a\\xb8\\xeb\\x9e\\x98\\xed\\x94\\xbd\\xec\\x9d\\xb4 \\xeb\\xb0\\x9c\\xed\\x96\\x89\\xed\\x95\\xa0 \\xec\\x88\\x98 \\xec\\x9e\\x88\\xec\\x8a\\xb5\\xeb\\x8b\\x88\\xeb\\x8b\\xa4. \\xeb\\x84\\xa4\\xed\\x8a\\xb8\\xec\\x9b\\x8c\\xed\\x81\\xac\\xeb\\xa5\\xbc \\xec\\x97\\xac\\xeb\\x9f\\xac \\xec\\x82\\xac\\xeb\\x9e\\x8c\\xea\\xb3\\xbc \\xea\\xb3\\xb5\\xec\\x9c\\xa0\\xed\\x95\\xb4 \\xec\\x82\\xac\\xec\\x9a\\xa9\\xed\\x95\\x98\\xec\\x8b\\xa4 \\xea\\xb2\\xbd\\xec\\x9a\\xb0, \\xeb\\x84\\xa4\\xed\\x8a\\xb8\\xec\\x9b\\x8c\\xed\\x81\\xac \\xea\\xb4\\x80\\xeb\\xa6\\xac\\xec\\x9e\\x90\\xec\\x97\\x90\\xea\\xb2\\x8c \\xeb\\xac\\xb8\\xec\\x9d\\x98\\xed\\x95\\x98\\xec\\x8b\\x9c\\xea\\xb8\\xb0 \\xeb\\xb0\\x94\\xeb\\x9e\\x8d\\xeb\\x8b\\x88\\xeb\\x8b\\xa4. \\xec\\x9d\\xb4\\xec\\x9a\\xa9\\xec\\x97\\x90 \\xeb\\xb6\\x88\\xed\\x8e\\xb8\\xec\\x9d\\x84 \\xeb\\x93\\x9c\\xeb\\xa0\\xa4 \\xec\\xa7\\x84\\xec\\x8b\\xac\\xec\\x9c\\xbc\\xeb\\xa1\\x9c \\xec\\x82\\xac\\xea\\xb3\\xbc \\xeb\\x93\\x9c\\xeb\\xa6\\xac\\xeb\\xa9\\xb0, \\xeb\\xac\\xb8\\xec\\xa0\\x9c\\xea\\xb0\\x80 \\xec\\xa7\\x80\\xec\\x86\\x8d\\xeb\\x90\\x98\\xeb\\x8a\\x94 \\xea\\xb2\\xbd\\xec\\x9a\\xb0 \\xeb\\xa9\\x94\\xec\\x9d\\xbc\\xeb\\xa1\\x9c \\xeb\\xac\\xb8\\xec\\x9d\\x98\\xed\\x95\\xb4\\xec\\xa3\\xbc\\xec\\x8b\\xad\\xec\\x8b\\x9c\\xec\\x98\\xa4.\">\\r\\n\\t\\t\\t<div class=\"notice\">\\r\\n\\t\\t\\t<p>\\xea\\xb3\\xa0\\xea\\xb0\\x9d\\xeb\\x8b\\x98\\xec\\x9d\\x98 \\xec\\xa0\\x91\\xec\\x86\\x8d IP\\xeb\\x8a\\x94 <span>58.239.125.107</span> \\xec\\x9e\\x85\\xeb\\x8b\\x88\\xeb\\x8b\\xa4.</p>\\r\\n\\t\\t\\t</div>\\r\\n\\t\\t</div>\\r\\n\\t</div>\\r\\n\\r\\n</body>\\r\\n</html>'"
      ]
     },
     "execution_count": 5,
     "metadata": {},
     "output_type": "execute_result"
    }
   ],
   "source": [
    "res=ses.get('http://www.krx.co.kr/main/main.jsp')\n",
    "res.content"
   ]
  },
  {
   "cell_type": "code",
   "execution_count": 8,
   "metadata": {},
   "outputs": [
    {
     "data": {
      "text/plain": [
       "<!DOCTYPE html>\n",
       "<html lang=\"ko\">\n",
       "<head>\n",
       "<title>Access Denied</title>\n",
       "<style>\n",
       "\t*{font-family:\"Malgun Gothic\"; font-size:1em}\n",
       "\thtml, body, div, img, p, span {margin:0;padding:0}\n",
       "\thtml {height:100%}\n",
       "\tbody {display:table; width:100%; height:100%; overflow:hidden}\n",
       "\t.wrap {display:table-cell; width:100%; height:100%}\n",
       "\t.visual{position:relative;width:690px;height:415px;margin:0 auto;}\n",
       "\t.visual img{position:absolute;top:240px;left:0;width:690px;height:415px;border:0}\n",
       "\t.notice{position:absolute;top:617px;width:690px}\n",
       "\t.notice p{font-size:1em;font-weight:normal; text-align:center}\n",
       "\t.notice p span{font-weight:600}\n",
       "</style>\n",
       "</head>\n",
       "<body>\n",
       "<div class=\"wrap\">\n",
       "<div class=\"visual\">\n",
       "<img alt=\"KRX 서비스 이용이 일시 제한되었습니다. 시스템에서 비정상적인 트래픽을 감지하여, 현재 접속이 제한되었습니다. 컴퓨터 바이러스,\n",
       "\t\t\t 브라우저의 플러그인 문제로 이상 트래픽이 발행할 수 있습니다. 네트워크를 여러 사람과 공유해 사용하실 경우, 네트워크 관리자에게 문의하시기 바랍니다. 이용에 불편을 드려 진심으로 사과 드리며, 문제가 지속되는 경우 메일로 문의해주십시오.\" src=\"/res/pc/img/img_ipblock.png\"/>\n",
       "<div class=\"notice\">\n",
       "<p>고객님의 접속 IP는 <span>58.239.125.107</span> 입니다.</p>\n",
       "</div>\n",
       "</div>\n",
       "</div>\n",
       "</body>\n",
       "</html>"
      ]
     },
     "execution_count": 8,
     "metadata": {},
     "output_type": "execute_result"
    }
   ],
   "source": [
    "soup=BS(res.content,'lxml')\n",
    "soup"
   ]
  },
  {
   "cell_type": "code",
   "execution_count": 9,
   "metadata": {},
   "outputs": [
    {
     "data": {
      "text/plain": [
       "<!DOCTYPE html>\n",
       "<html lang=\"ko\">\n",
       "<head>\n",
       "<title>Access Denied</title>\n",
       "<style>\n",
       "\t*{font-family:\"Malgun Gothic\"; font-size:1em}\n",
       "\thtml, body, div, img, p, span {margin:0;padding:0}\n",
       "\thtml {height:100%}\n",
       "\tbody {display:table; width:100%; height:100%; overflow:hidden}\n",
       "\t.wrap {display:table-cell; width:100%; height:100%}\n",
       "\t.visual{position:relative;width:690px;height:415px;margin:0 auto;}\n",
       "\t.visual img{position:absolute;top:240px;left:0;width:690px;height:415px;border:0}\n",
       "\t.notice{position:absolute;top:617px;width:690px}\n",
       "\t.notice p{font-size:1em;font-weight:normal; text-align:center}\n",
       "\t.notice p span{font-weight:600}\n",
       "</style>\n",
       "</head>\n",
       "<body>\n",
       "<div class=\"wrap\">\n",
       "<div class=\"visual\">\n",
       "<img alt=\"KRX 서비스 이용이 일시 제한되었습니다. 시스템에서 비정상적인 트래픽을 감지하여, 현재 접속이 제한되었습니다. 컴퓨터 바이러스,\n",
       "\t\t\t 브라우저의 플러그인 문제로 이상 트래픽이 발행할 수 있습니다. 네트워크를 여러 사람과 공유해 사용하실 경우, 네트워크 관리자에게 문의하시기 바랍니다. 이용에 불편을 드려 진심으로 사과 드리며, 문제가 지속되는 경우 메일로 문의해주십시오.\" src=\"/res/pc/img/img_ipblock.png\"/>\n",
       "<div class=\"notice\">\n",
       "<p>고객님의 접속 IP는 <span>58.239.125.107</span> 입니다.</p>\n",
       "</div>\n",
       "</div>\n",
       "</div>\n",
       "</body>\n",
       "</html>"
      ]
     },
     "execution_count": 9,
     "metadata": {},
     "output_type": "execute_result"
    }
   ],
   "source": [
    "res=requests.get('http://www.krx.co.kr/main/main.jsp')\n",
    "soup=BS(res.content,'lxml')\n",
    "soup"
   ]
  },
  {
   "cell_type": "code",
   "execution_count": null,
   "metadata": {},
   "outputs": [],
   "source": []
  }
 ],
 "metadata": {
  "kernelspec": {
   "display_name": "Python 3",
   "language": "python",
   "name": "python3"
  },
  "language_info": {
   "codemirror_mode": {
    "name": "ipython",
    "version": 3
   },
   "file_extension": ".py",
   "mimetype": "text/x-python",
   "name": "python",
   "nbconvert_exporter": "python",
   "pygments_lexer": "ipython3",
   "version": "3.8.5"
  }
 },
 "nbformat": 4,
 "nbformat_minor": 4
}
