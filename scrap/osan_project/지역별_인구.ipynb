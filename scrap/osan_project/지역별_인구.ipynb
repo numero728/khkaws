{
 "cells": [
  {
   "cell_type": "code",
   "execution_count": 170,
   "metadata": {},
   "outputs": [],
   "source": [
    "import requests as req\n",
    "import pandas as pd\n",
    "import numpy as np\n",
    "import matplotlib.pyplot as plt\n",
    "import urllib.parse as parse\n",
    "%matplotlib inline\n",
    "year=2019"
   ]
  },
  {
   "cell_type": "code",
   "execution_count": 171,
   "metadata": {},
   "outputs": [],
   "source": [
    "# 인증 단계\n",
    "uid='4e0d75a34cd841ec9b25'\n",
    "upw='6b14ea5ed9204296915e'\n",
    "authen_url=f'https://sgisapi.kostat.go.kr/OpenAPI3/auth/authentication.json?consumer_key={uid}&consumer_secret={upw}'\n",
    "authen_res=req.get(authen_url)\n",
    "token=authen_res.json()['result']['accessToken']"
   ]
  },
  {
   "cell_type": "code",
   "execution_count": 172,
   "metadata": {},
   "outputs": [],
   "source": [
    "token=parse.quote(token)"
   ]
  },
  {
   "cell_type": "code",
   "execution_count": 173,
   "metadata": {},
   "outputs": [
    {
     "data": {
      "text/plain": [
       "'825e3a80-2edb-4a44-aaee-e271d0dbe73c'"
      ]
     },
     "execution_count": 173,
     "metadata": {},
     "output_type": "execute_result"
    }
   ],
   "source": [
    "token"
   ]
  },
  {
   "cell_type": "code",
   "execution_count": 174,
   "metadata": {},
   "outputs": [],
   "source": [
    "params={\n",
    "    'year':str(year),\n",
    "    'adm_cd':'non',\n",
    "    'low_search':'0'\n",
    "}"
   ]
  },
  {
   "cell_type": "code",
   "execution_count": 175,
   "metadata": {},
   "outputs": [
    {
     "data": {
      "text/plain": [
       "'https://sgisapi.kostat.go.kr/OpenAPI3/stats/population.json?accessToken=825e3a80-2edb-4a44-aaee-e271d0dbe73c&year=2019&adm_cd=non&low_search=0'"
      ]
     },
     "execution_count": 175,
     "metadata": {},
     "output_type": "execute_result"
    }
   ],
   "source": [
    "popul_url='https://sgisapi.kostat.go.kr/OpenAPI3/stats/population.json?accessToken='+token+'&'\n",
    "for k,v in params.items():\n",
    "    popul_url=popul_url+k+'='+v+'&'\n",
    "popul_url=popul_url[:-1]\n",
    "popul_url"
   ]
  },
  {
   "cell_type": "code",
   "execution_count": 176,
   "metadata": {},
   "outputs": [],
   "source": [
    "popul_res=req.get(popul_url)\n",
    "popul_res.raise_for_status()\n",
    "# popul_json=popul_res.json()"
   ]
  },
  {
   "cell_type": "code",
   "execution_count": 177,
   "metadata": {},
   "outputs": [
    {
     "data": {
      "text/plain": [
       "{'id': 'API_0301',\n",
       " 'errMsg': '검색결과가 존재하지 않습니다.',\n",
       " 'errCd': -100,\n",
       " 'trId': 'Ch7i_API_0301_1608908926664'}"
      ]
     },
     "execution_count": 177,
     "metadata": {},
     "output_type": "execute_result"
    }
   ],
   "source": [
    "popul_json"
   ]
  },
  {
   "cell_type": "code",
   "execution_count": null,
   "metadata": {},
   "outputs": [],
   "source": []
  },
  {
   "cell_type": "code",
   "execution_count": null,
   "metadata": {},
   "outputs": [],
   "source": []
  }
 ],
 "metadata": {
  "kernelspec": {
   "display_name": "Python 3",
   "language": "python",
   "name": "python3"
  },
  "language_info": {
   "codemirror_mode": {
    "name": "ipython",
    "version": 3
   },
   "file_extension": ".py",
   "mimetype": "text/x-python",
   "name": "python",
   "nbconvert_exporter": "python",
   "pygments_lexer": "ipython3",
   "version": "3.8.5"
  }
 },
 "nbformat": 4,
 "nbformat_minor": 4
}
