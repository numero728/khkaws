{
 "cells": [
  {
   "cell_type": "code",
   "execution_count": null,
   "metadata": {},
   "outputs": [],
   "source": [
    "import pymysql\n",
    "from tqdm import tqdm\n",
    "\n",
    "conn_=''\n",
    "try:\n",
    "    conn_=pymysql.connect(\n",
    "                        host='khk.cepsu2i8bkn5.ap-northeast-2.rds.amazonaws.com',\n",
    "                        user='khk',\n",
    "                        password='k2hyokwang2!',\n",
    "                        charset='utf8mb4',\n",
    "                        cursorclass=pymysql.cursors.DictCursor,\n",
    "                        port=3306,\n",
    "                        db='information_schema'\n",
    "    )\n",
    "\n",
    "    with conn_.cursor() as cursor:\n",
    "        sql='SELECT TABLE_NAME FROM TABLES WHERE TABLES.TABLE_SCHEMA=\"hist_data\";'\n",
    "        cursor.execute(sql)\n",
    "        rows=cursor.fetchall()\n",
    "    \n",
    "except Exception as e:\n",
    "    print(e)\n",
    "finally:\n",
    "    conn_.close()"
   ]
  }
 ],
 "metadata": {
  "kernelspec": {
   "display_name": "Python 3",
   "language": "python",
   "name": "python3"
  },
  "language_info": {
   "codemirror_mode": {
    "name": "ipython",
    "version": 3
   },
   "file_extension": ".py",
   "mimetype": "text/x-python",
   "name": "python",
   "nbconvert_exporter": "python",
   "pygments_lexer": "ipython3",
   "version": "3.8.5"
  }
 },
 "nbformat": 4,
 "nbformat_minor": 4
}
